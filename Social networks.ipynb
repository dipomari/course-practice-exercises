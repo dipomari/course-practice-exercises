{
 "cells": [
  {
   "cell_type": "code",
   "execution_count": 5,
   "metadata": {},
   "outputs": [],
   "source": [
    "import pandas as pd\n",
    "import pyvis\n",
    "import snap"
   ]
  },
  {
   "cell_type": "code",
   "execution_count": 2,
   "metadata": {},
   "outputs": [],
   "source": [
    "data = pd.read_csv('/Users/diegoportillaamarillas/Downloads/facebook_combined.txt', sep=' ', header=None)\n",
    "data.columns = ['person1', 'person2']\n",
    "\n",
    "sample = data.sample(2000, random_state=1)"
   ]
  },
  {
   "cell_type": "code",
   "execution_count": 3,
   "metadata": {},
   "outputs": [
    {
     "data": {
      "text/html": [
       "<div>\n",
       "<style scoped>\n",
       "    .dataframe tbody tr th:only-of-type {\n",
       "        vertical-align: middle;\n",
       "    }\n",
       "\n",
       "    .dataframe tbody tr th {\n",
       "        vertical-align: top;\n",
       "    }\n",
       "\n",
       "    .dataframe thead th {\n",
       "        text-align: right;\n",
       "    }\n",
       "</style>\n",
       "<table border=\"1\" class=\"dataframe\">\n",
       "  <thead>\n",
       "    <tr style=\"text-align: right;\">\n",
       "      <th></th>\n",
       "      <th>person1</th>\n",
       "      <th>person2</th>\n",
       "    </tr>\n",
       "  </thead>\n",
       "  <tbody>\n",
       "    <tr>\n",
       "      <th>74346</th>\n",
       "      <td>2839</td>\n",
       "      <td>3064</td>\n",
       "    </tr>\n",
       "    <tr>\n",
       "      <th>62630</th>\n",
       "      <td>2309</td>\n",
       "      <td>2590</td>\n",
       "    </tr>\n",
       "    <tr>\n",
       "      <th>199</th>\n",
       "      <td>0</td>\n",
       "      <td>200</td>\n",
       "    </tr>\n",
       "    <tr>\n",
       "      <th>51398</th>\n",
       "      <td>2088</td>\n",
       "      <td>2468</td>\n",
       "    </tr>\n",
       "    <tr>\n",
       "      <th>27375</th>\n",
       "      <td>1319</td>\n",
       "      <td>1568</td>\n",
       "    </tr>\n",
       "  </tbody>\n",
       "</table>\n",
       "</div>"
      ],
      "text/plain": [
       "       person1  person2\n",
       "74346     2839     3064\n",
       "62630     2309     2590\n",
       "199          0      200\n",
       "51398     2088     2468\n",
       "27375     1319     1568"
      ]
     },
     "execution_count": 3,
     "metadata": {},
     "output_type": "execute_result"
    }
   ],
   "source": [
    "sample.head()"
   ]
  },
  {
   "cell_type": "code",
   "execution_count": 52,
   "metadata": {},
   "outputs": [],
   "source": [
    "net = pyvis.network.Network(\n",
    "    notebook=True,\n",
    "    cdn_resources='remote',\n",
    "    bgcolor='#222222',\n",
    "    font_color='white',\n",
    "    height='750px',\n",
    "    width='100%',\n",
    ")\n",
    "\n",
    "nodes= list(set([*sample.person1, *sample.person2]))\n",
    "edges = sample.values.tolist()\n",
    "net.add_nodes(nodes)\n",
    "net.add_edges(edges)"
   ]
  },
  {
   "attachments": {},
   "cell_type": "markdown",
   "metadata": {},
   "source": [
    "## Degree Distribution, Clustering, Diameter\n"
   ]
  },
  {
   "cell_type": "code",
   "execution_count": 41,
   "metadata": {},
   "outputs": [],
   "source": [
    "fb_graph = snap.LoadEdgeList(snap.TNGraph, '/Users/diegoportillaamarillas/Downloads/facebook_combined.txt', 0, 1)"
   ]
  },
  {
   "cell_type": "code",
   "execution_count": 58,
   "metadata": {},
   "outputs": [
    {
     "name": "stdout",
     "output_type": "stream",
     "text": [
      "Edges:88234 Nodes: 4039\n"
     ]
    }
   ],
   "source": [
    "print(f'Edges:{fb_graph.GetEdges()} Nodes: {fb_graph.GetNodes()}')"
   ]
  },
  {
   "cell_type": "code",
   "execution_count": 43,
   "metadata": {},
   "outputs": [],
   "source": [
    "random_graph = snap.GenRndGnm(snap.TNGraph, 4039, 88234)"
   ]
  },
  {
   "cell_type": "code",
   "execution_count": 74,
   "metadata": {},
   "outputs": [
    {
     "data": {
      "text/plain": [
       "(0.6055467186200861, 0.010827033030595123)"
      ]
     },
     "execution_count": 74,
     "metadata": {},
     "output_type": "execute_result"
    }
   ],
   "source": [
    "fb_clust_cf = fb_graph.GetClustCf()\n",
    "rdm_clust_cf = random_graph.GetClustCf()\n",
    "\n",
    "fb_diam = fb_graph.GetBfsFullDiam(4039, True)\n",
    "rdm_diam = random_graph.GetBfsFullDiam(4039, True)\n",
    "\n",
    "\n",
    "fb_clust_cf, rdm_clust_cf"
   ]
  },
  {
   "cell_type": "code",
   "execution_count": 75,
   "metadata": {},
   "outputs": [
    {
     "data": {
      "text/plain": [
       "(17, 4)"
      ]
     },
     "execution_count": 75,
     "metadata": {},
     "output_type": "execute_result"
    }
   ],
   "source": [
    "fb_diam, rdm_diam"
   ]
  },
  {
   "cell_type": "code",
   "execution_count": 73,
   "metadata": {},
   "outputs": [
    {
     "data": {
      "image/png": "[encoded data removed]",
      "text/plain": [
       "<Figure size 640x480 with 1 Axes>"
      ]
     },
     "metadata": {},
     "output_type": "display_data"
    }
   ],
   "source": [
    "import matplotlib.pyplot as plt\n",
    "\n",
    "# Get the degree sequence of the graph\n",
    "degree_seq = snap.TIntV()\n",
    "snap.GetDegSeqV(fb_graph, degree_seq)\n",
    "\n",
    "# Calculate the degree frequency distribution\n",
    "degree_counts = {}\n",
    "for degree in degree_seq:\n",
    "    degree_counts[degree] = degree_counts.get(degree, 0) + 1\n",
    "\n",
    "# Plot the degree distribution\n",
    "degrees = list(degree_counts.keys())\n",
    "frequency = list(degree_counts.values())\n",
    "\n",
    "plt.scatter(degrees, frequency, s=10, cmap='twilight')\n",
    "plt.xlabel(\"Degree\")\n",
    "plt.ylabel(\"Frequency\")\n",
    "plt.title(\"FB Degree Distribution\")\n",
    "plt.show()"
   ]
  },
  {
   "cell_type": "code",
   "execution_count": 70,
   "metadata": {},
   "outputs": [
    {
     "data": {
      "image/png": "[encoded data removed]",
      "text/plain": [
       "<Figure size 640x480 with 1 Axes>"
      ]
     },
     "metadata": {},
     "output_type": "display_data"
    }
   ],
   "source": [
    "snap.GetDegSeqV(random_graph, degree_seq)\n",
    "\n",
    "# Calculate the degree frequency distribution\n",
    "degree_counts = {}\n",
    "for degree in degree_seq:\n",
    "    degree_counts[degree] = degree_counts.get(degree, 0) + 1\n",
    "\n",
    "# Plot the degree distribution\n",
    "degrees = list(degree_counts.keys())\n",
    "frequency = list(degree_counts.values())\n",
    "\n",
    "plt.scatter(degrees, frequency, s=10)\n",
    "plt.xlabel(\"Degree\")\n",
    "plt.ylabel(\"Frequency\")\n",
    "plt.title(\"Random Graph Degree Distribution\")\n",
    "plt.show()"
   ]
  },
  {
   "cell_type": "code",
   "execution_count": 76,
   "metadata": {},
   "outputs": [],
   "source": [
    "Rnd = snap.TRnd(1,0)\n",
    "UGraph1 = snap.GenSmallWorld(10, 3, 0, Rnd)"
   ]
  },
  {
   "cell_type": "code",
   "execution_count": 78,
   "metadata": {},
   "outputs": [
    {
     "name": "stdout",
     "output_type": "stream",
     "text": [
      "edge: (0, 1)\n",
      "edge: (0, 2)\n",
      "edge: (0, 3)\n",
      "edge: (0, 7)\n",
      "edge: (0, 8)\n",
      "edge: (0, 9)\n",
      "edge: (1, 2)\n",
      "edge: (1, 3)\n",
      "edge: (1, 4)\n",
      "edge: (1, 8)\n",
      "edge: (1, 9)\n",
      "edge: (2, 3)\n",
      "edge: (2, 4)\n",
      "edge: (2, 5)\n",
      "edge: (2, 9)\n",
      "edge: (3, 4)\n",
      "edge: (3, 5)\n",
      "edge: (3, 6)\n",
      "edge: (4, 5)\n",
      "edge: (4, 6)\n",
      "edge: (4, 7)\n",
      "edge: (5, 6)\n",
      "edge: (5, 7)\n",
      "edge: (5, 8)\n",
      "edge: (6, 7)\n",
      "edge: (6, 8)\n",
      "edge: (6, 9)\n",
      "edge: (7, 8)\n",
      "edge: (7, 9)\n",
      "edge: (8, 9)\n"
     ]
    }
   ],
   "source": [
    "for EI in UGraph1.Edges():\n",
    "    print(\"edge: (%d, %d)\" % (EI.GetSrcNId(), EI.GetDstNId()))"
   ]
  },
  {
   "cell_type": "code",
   "execution_count": null,
   "metadata": {},
   "outputs": [],
   "source": []
  }
 ],
 "metadata": {
  "kernelspec": {
   "display_name": "base",
   "language": "python",
   "name": "python3"
  },
  "language_info": {
   "codemirror_mode": {
    "name": "ipython",
    "version": 3
   },
   "file_extension": ".py",
   "mimetype": "text/x-python",
   "name": "python",
   "nbconvert_exporter": "python",
   "pygments_lexer": "ipython3",
   "version": "3.9.13"
  },
  "orig_nbformat": 4
 },
 "nbformat": 4,
 "nbformat_minor": 2
}
